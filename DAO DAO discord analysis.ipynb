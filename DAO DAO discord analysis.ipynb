{
 "cells": [
  {
   "cell_type": "code",
   "execution_count": 17,
   "id": "2a9ee133",
   "metadata": {},
   "outputs": [
    {
     "name": "stdout",
     "output_type": "stream",
     "text": [
      "Meow  ✨🔭⚵☯: 398\n",
      "elsehow: 585\n",
      "elgorithm: 9\n",
      "modern-edamame: 524\n",
      "Ben2x4: 5\n",
      "nullmames: 25\n",
      "the-frey: 46\n",
      "gavindoughtie: 47\n",
      "blockcreators: 21\n",
      "ekez: 421\n",
      "ethanfrey: 4\n",
      "nikktrfn: 11\n",
      "oz: 4\n",
      "jackzampolin: 11\n",
      "Lightiv: 1\n",
      "dk: 1\n",
      "case: 434\n",
      "nova: 5\n",
      "mamimi: 5\n",
      "Maxjuno: 8\n",
      "Mike Purvis: 6\n",
      "wearautomatic: 12\n",
      "ezracafe: 4\n",
      "noahsaso: 253\n",
      "chung: 13\n",
      "baoskees: 113\n",
      "orkunkle: 9\n",
      "TYLANDERR: 8\n",
      "Callum: 61\n",
      "Trevor | Croncat: 51\n",
      "bluenote: 19\n",
      "Musky Melon: 2\n",
      "Julius: 5\n",
      "lynx | Earth +: 2\n",
      "Lovis: 1\n",
      "pyramation: 3\n",
      "envy: 2\n"
     ]
    }
   ],
   "source": [
    "import json\n",
    "from collections import defaultdict\n",
    "\n",
    "def default():\n",
    "    return 0\n",
    "\n",
    "with open('./daodao_design_channel.json', 'r') as f:\n",
    "  messages = json.load(f)\n",
    "#   print(messages)\n",
    "  name_to_message_count = defaultdict(default)\n",
    "  for message in messages['messages']: \n",
    "    author = message['author']['name']\n",
    "    name_to_message_count[author] += 1\n",
    "\n",
    "  for name, count in name_to_message_count.items(): \n",
    "    print('{}: {}'.format(name, count))\n"
   ]
  },
  {
   "cell_type": "code",
   "execution_count": null,
   "id": "ec9d1ed4",
   "metadata": {},
   "outputs": [],
   "source": []
  }
 ],
 "metadata": {
  "kernelspec": {
   "display_name": "Python 3 (ipykernel)",
   "language": "python",
   "name": "python3"
  },
  "language_info": {
   "codemirror_mode": {
    "name": "ipython",
    "version": 3
   },
   "file_extension": ".py",
   "mimetype": "text/x-python",
   "name": "python",
   "nbconvert_exporter": "python",
   "pygments_lexer": "ipython3",
   "version": "3.10.7"
  }
 },
 "nbformat": 4,
 "nbformat_minor": 5
}
